{
 "cells": [
  {
   "cell_type": "markdown",
   "metadata": {},
   "source": [
    "# Group Meeting Poster Sessions (5min)"
   ]
  },
  {
   "cell_type": "code",
   "execution_count": 28,
   "metadata": {},
   "outputs": [
    {
     "name": "stdout",
     "output_type": "stream",
     "text": [
      "Bumjin Geonhyeong\n",
      "Junho Jihyeon\n",
      "Youngjin Won\n",
      "Youngju Jiyeon\n",
      "Sehyun Subeen\n",
      "Dahee Sangun\n",
      "Hyukdong Kwangmin\n",
      "Tair Sol A\n",
      "Artyom Bumjin\n",
      "Enver Cheongwoong\n",
      "Seongun Seongwoo\n",
      "Hyunkyung Hyeha\n",
      "Wonjoon Chanwoo\n",
      "Anh Soyeon\n",
      "Kyowoon Jungmin\n"
     ]
    }
   ],
   "source": [
    "import numpy as np \n",
    "import random \n",
    "\n",
    "names = \"\"\"\n",
    "        Anh\n",
    "        Artyom\n",
    "        Bumjin\n",
    "        Chanwoo\n",
    "        Cheongwoong\n",
    "        Dahee\n",
    "        Enver\n",
    "        Hyeha\n",
    "        Hyukdong\n",
    "        Hyunkyung\n",
    "        Jihyeon\n",
    "        Jiyeon\n",
    "        Jungmin\n",
    "        Junho\n",
    "        Kwangmin\n",
    "        Kyowoon\n",
    "        Sangun\n",
    "        Sehyun\n",
    "        Seongun\n",
    "        Seongwoo\n",
    "        Sol A\n",
    "        Soyeon\n",
    "        Subeen\n",
    "        Tair\n",
    "        Won\n",
    "        Wonjoon\n",
    "        Youngjin\n",
    "        Youngju\n",
    "        Geonhyeong\n",
    "        Bumjin\n",
    "        \"\"\".strip().split(\"\\n\")\n",
    "\n",
    "\n",
    "round=0\n",
    "random.seed(round)\n",
    "np.random.seed(round)\n",
    "np.random.shuffle(names)\n",
    "names_iter = iter(names)\n",
    "\n",
    "for i in range(len(names)):\n",
    "    name = next(names_iter).strip()\n",
    "    if i%2==0:\n",
    "        print(f\"{name}\", end=\" \")\n",
    "    else:\n",
    "        print(f\"{name}\", end=\"\\n\")"
   ]
  },
  {
   "cell_type": "code",
   "execution_count": null,
   "metadata": {},
   "outputs": [],
   "source": []
  }
 ],
 "metadata": {
  "kernelspec": {
   "display_name": "base",
   "language": "python",
   "name": "python3"
  },
  "language_info": {
   "codemirror_mode": {
    "name": "ipython",
    "version": 3
   },
   "file_extension": ".py",
   "mimetype": "text/x-python",
   "name": "python",
   "nbconvert_exporter": "python",
   "pygments_lexer": "ipython3",
   "version": "3.11.3"
  },
  "orig_nbformat": 4
 },
 "nbformat": 4,
 "nbformat_minor": 2
}
